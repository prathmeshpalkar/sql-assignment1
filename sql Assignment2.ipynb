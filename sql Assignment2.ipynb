{
 "cells": [
  {
   "cell_type": "code",
   "execution_count": 1,
   "id": "5721f849",
   "metadata": {},
   "outputs": [
    {
     "name": "stdout",
     "output_type": "stream",
     "text": [
      "iupui.edu 8\n",
      "umich.edu 7\n",
      "uct.ac.za 6\n",
      "media.berkeley.edu 4\n",
      "caret.cam.ac.uk 1\n",
      "gmail.com 1\n"
     ]
    }
   ],
   "source": [
    "import sqlite3\n",
    "import re\n",
    "\n",
    "# Connect to SQLite database or create if it doesn't exist\n",
    "conn = sqlite3.connect('email_counts.db')\n",
    "cur = conn.cursor()\n",
    "\n",
    "# Drop existing table if it exists\n",
    "cur.execute('DROP TABLE IF EXISTS Counts')\n",
    "\n",
    "# Create table\n",
    "cur.execute('''\n",
    "    CREATE TABLE Counts (org TEXT, count INTEGER)\n",
    "''')\n",
    "\n",
    "\n",
    "def extract_organization(email):\n",
    "    match = re.search(r'@(\\S+)', email)\n",
    "    if match:\n",
    "        return match.group(1)\n",
    "    return None\n",
    "\n",
    "# Open mbox.txt file\n",
    "filename = r'D:\\Data scinece\\Assignemt Question\\SQL Assignment\\SQL ASSIGNMENT -2\\mbox.txt'\n",
    "try:\n",
    "    file_handler = open(filename)\n",
    "except FileNotFoundError:\n",
    "    print(f\"File '{filename}' not found.\")\n",
    "    quit()\n",
    "\n",
    "\n",
    "for line in file_handler:\n",
    "    if line.startswith('From '):\n",
    "        pieces = line.split()\n",
    "        email = pieces[1]\n",
    "        org = extract_organization(email)\n",
    "        if org:\n",
    "            \n",
    "            cur.execute('SELECT count FROM Counts WHERE org = ? ', (org,))\n",
    "            row = cur.fetchone()\n",
    "            if row is None:\n",
    "                cur.execute('INSERT INTO Counts (org, count) VALUES (?, 1)', (org,))\n",
    "            else:\n",
    "                cur.execute('UPDATE Counts SET count = count + 1 WHERE org = ?', (org,))\n",
    "\n",
    "\n",
    "conn.commit()\n",
    "\n",
    "\n",
    "cur.execute('SELECT * FROM Counts ORDER BY count DESC')\n",
    "for row in cur.fetchall():\n",
    "    print(row[0], row[1])\n",
    "\n",
    "\n",
    "file_handler.close()\n",
    "cur.close()\n"
   ]
  },
  {
   "cell_type": "code",
   "execution_count": null,
   "id": "9d07748d",
   "metadata": {},
   "outputs": [],
   "source": []
  }
 ],
 "metadata": {
  "kernelspec": {
   "display_name": "Python 3 (ipykernel)",
   "language": "python",
   "name": "python3"
  },
  "language_info": {
   "codemirror_mode": {
    "name": "ipython",
    "version": 3
   },
   "file_extension": ".py",
   "mimetype": "text/x-python",
   "name": "python",
   "nbconvert_exporter": "python",
   "pygments_lexer": "ipython3",
   "version": "3.11.4"
  }
 },
 "nbformat": 4,
 "nbformat_minor": 5
}
