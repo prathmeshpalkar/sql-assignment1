{
  "nbformat": 4,
  "nbformat_minor": 0,
  "metadata": {
    "colab": {
      "provenance": []
    },
    "kernelspec": {
      "name": "python3",
      "display_name": "Python 3"
    },
    "language_info": {
      "name": "python"
    }
  },
  "cells": [
    {
      "cell_type": "code",
      "execution_count": 1,
      "metadata": {
        "colab": {
          "base_uri": "https://localhost:8080/"
        },
        "id": "TJqp4N_RmTd7",
        "outputId": "20ec14ed-02ee-4d4b-c92b-3093e0c2c226"
      },
      "outputs": [
        {
          "output_type": "stream",
          "name": "stdout",
          "text": [
            "Counts:\n",
            "iupui.edu 8\n",
            "umich.edu 7\n",
            "uct.ac.za 6\n",
            "media.berkeley.edu 4\n",
            "caret.cam.ac.uk 1\n",
            "gmail.com 1\n"
          ]
        }
      ],
      "source": [
        "import sqlite3\n",
        "\n",
        "conn = sqlite3.connect('email_counts.sqlite')\n",
        "cur = conn.cursor()\n",
        "\n",
        "# Create table if not exists\n",
        "cur.execute('''\n",
        "CREATE TABLE IF NOT EXISTS Counts (\n",
        "    org TEXT,\n",
        "    count INTEGER\n",
        ")\n",
        "''')\n",
        "\n",
        "# Prompt for the file name\n",
        "file_name = 'mbox.txt'\n",
        "\n",
        "try:\n",
        "    with open(file_name, 'r') as file:\n",
        "        for line in file:\n",
        "            if line.startswith('From '):\n",
        "                email = line.split()[1]\n",
        "                org = email.split('@')[1]\n",
        "\n",
        "                # Check if the organization is already in the database, if not, insert a new record\n",
        "                cur.execute('SELECT count FROM Counts WHERE org = ?', (org,))\n",
        "                row = cur.fetchone()\n",
        "                if row is None:\n",
        "                    cur.execute('INSERT INTO Counts (org, count) VALUES (?, 1)', (org,))\n",
        "                else:\n",
        "                    cur.execute('UPDATE Counts SET count = count + 1 WHERE org = ?', (org,))\n",
        "\n",
        "except FileNotFoundError:\n",
        "    print('File not found.')\n",
        "    quit()\n",
        "\n",
        "# Retrieve and print the results\n",
        "cur.execute('SELECT org, count FROM Counts ORDER BY count DESC')\n",
        "print('Counts:')\n",
        "for row in cur.fetchall():\n",
        "    print(row[0], row[1])\n",
        "\n",
        "# Commit the changes and close the connection\n",
        "conn.commit()\n",
        "conn.close()\n"
      ]
    }
  ]
}